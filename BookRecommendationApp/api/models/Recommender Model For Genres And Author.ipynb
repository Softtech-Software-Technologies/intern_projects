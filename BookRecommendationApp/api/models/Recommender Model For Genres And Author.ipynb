{
 "cells": [
  {
   "cell_type": "code",
   "execution_count": null,
   "id": "3c9721ab",
   "metadata": {},
   "outputs": [],
   "source": [
    "import numpy as np\n",
    "import pandas as pd\n",
    "from sklearn.metrics.pairwise import cosine_similarity\n",
    "from sklearn.feature_extraction.text import CountVectorizer"
   ]
  },
  {
   "cell_type": "code",
   "execution_count": null,
   "id": "47d530c6",
   "metadata": {},
   "outputs": [],
   "source": [
    "df = pd.read_csv('your csv file', encoding=\"unicode_escape\")"
   ]
  },
  {
   "cell_type": "code",
   "execution_count": null,
   "id": "e8cac838",
   "metadata": {},
   "outputs": [],
   "source": [
    "print(df.shape[0])"
   ]
  },
  {
   "cell_type": "code",
   "execution_count": null,
   "id": "50488187",
   "metadata": {},
   "outputs": [],
   "source": [
    "columns = ['title', 'author' ,'genres', 'rating']"
   ]
  },
  {
   "cell_type": "code",
   "execution_count": null,
   "id": "bfa10c43",
   "metadata": {},
   "outputs": [],
   "source": [
    "def combine_features(data):\n",
    "    features = []\n",
    "    for i in range(0, data.shape[0]):\n",
    "        features.append(str(data['title'][i]) + ' ' + str(data[\"author\"][i]) + ' ' + str(data[\"rating\"][i]) + ' ' + str(data[\"genres\"][i]) )\n",
    "        \n",
    "    return features"
   ]
  },
  {
   "cell_type": "code",
   "execution_count": null,
   "id": "0c740ffd",
   "metadata": {},
   "outputs": [],
   "source": [
    "df['combined_features'] = combine_features(df)\n",
    "df"
   ]
  },
  {
   "cell_type": "code",
   "execution_count": null,
   "id": "239e1f3d",
   "metadata": {},
   "outputs": [],
   "source": [
    "cm = CountVectorizer().fit_transform(df['combined_features'])"
   ]
  },
  {
   "cell_type": "code",
   "execution_count": null,
   "id": "33f12605",
   "metadata": {},
   "outputs": [],
   "source": [
    "cs = cosine_similarity(cm)\n",
    "print(cs)"
   ]
  },
  {
   "cell_type": "code",
   "execution_count": null,
   "id": "83e11505",
   "metadata": {},
   "outputs": [],
   "source": [
    "Title = df['title'][1]\n",
    "Title"
   ]
  },
  {
   "cell_type": "code",
   "execution_count": null,
   "id": "55e81f7b",
   "metadata": {},
   "outputs": [],
   "source": [
    "book_id = df[df.title == Title]['book_id'].values[0]\n",
    "book_id"
   ]
  },
  {
   "cell_type": "code",
   "execution_count": null,
   "id": "31ecb487",
   "metadata": {},
   "outputs": [],
   "source": [
    "scores = list(enumerate(cs[book_id]))\n",
    "print(scores)"
   ]
  },
  {
   "cell_type": "code",
   "execution_count": null,
   "id": "819ec933",
   "metadata": {},
   "outputs": [],
   "source": [
    "sorted_scores = sorted(scores, key= lambda x:x[1], reverse= True)\n",
    "sorted_scores = sorted_scores[1:]\n",
    "sorted_scores"
   ]
  },
  {
   "cell_type": "code",
   "execution_count": null,
   "id": "77ad0cb2",
   "metadata": {},
   "outputs": [],
   "source": [
    "j = 0\n",
    "print('The 5 most recommended books to '+ Title + ' are\\n')\n",
    "for item in sorted_scores:\n",
    "    book_title = df[df.book_id == item[0]]['title'].values[0]\n",
    "    print(j+1, book_title )\n",
    "    j = j + 1\n",
    "    if j >= 5:\n",
    "        break"
   ]
  },
  {
   "cell_type": "code",
   "execution_count": null,
   "id": "8c5a85a6",
   "metadata": {},
   "outputs": [],
   "source": [
    "np.savez('cosine_similarity_matrix_2.npz', cs)"
   ]
  },
  {
   "cell_type": "code",
   "execution_count": null,
   "id": "02327449",
   "metadata": {},
   "outputs": [],
   "source": [
    "pd.set_option('display.max_colwidth', None)\n",
    "print(df['genres'][1])"
   ]
  }
 ],
 "metadata": {
  "kernelspec": {
   "display_name": "Python 3",
   "language": "python",
   "name": "python3"
  },
  "language_info": {
   "codemirror_mode": {
    "name": "ipython",
    "version": 3
   },
   "file_extension": ".py",
   "mimetype": "text/x-python",
   "name": "python",
   "nbconvert_exporter": "python",
   "pygments_lexer": "ipython3",
   "version": "3.8.8"
  }
 },
 "nbformat": 4,
 "nbformat_minor": 5
}
